{
 "cells": [
  {
   "cell_type": "code",
   "execution_count": 328,
   "metadata": {},
   "outputs": [],
   "source": [
    "# Import Libraries and Dependencies\n",
    "import pandas as pd\n",
    "import json"
   ]
  },
  {
   "cell_type": "markdown",
   "metadata": {},
   "source": [
    "### 1. Combine and Clean the Data\n",
    "#### Import CSVs"
   ]
  },
  {
   "cell_type": "code",
   "execution_count": 329,
   "metadata": {},
   "outputs": [],
   "source": [
    "# Read the CSV files into DataFrames.\n",
    "df_2020 = pd.read_csv(\"athletic_sales_2020.csv\")\n",
    "df_2021 = pd.read_csv(\"athletic_sales_2021.csv\")\n",
    "df = pd.concat([df_2020, df_2021])"
   ]
  },
  {
   "cell_type": "code",
   "execution_count": 330,
   "metadata": {},
   "outputs": [
    {
     "name": "stdout",
     "output_type": "stream",
     "text": [
      "2020 Sales DataFrame:\n",
      "      retailer  retailer_id invoice_date     region         state  \\\n",
      "0  Foot Locker      1185732     1/1/2020  Northeast      New York   \n",
      "1  Foot Locker      1185732     1/1/2020  Northeast  Pennsylvania   \n",
      "2  Foot Locker      1185732     1/1/2020  Northeast  Pennsylvania   \n",
      "3  Foot Locker      1185732     1/1/2020  Northeast      New York   \n",
      "4  Foot Locker      1185732     1/1/2020  Northeast  Pennsylvania   \n",
      "\n",
      "           city           product_type  price_per_unit  units_sold  \\\n",
      "0      New York  Men's Street Footwear              50        1200   \n",
      "1  Philadelphia        Women's Apparel              68          83   \n",
      "2  Philadelphia        Women's Apparel              75         275   \n",
      "3      New York  Men's Street Footwear              34         384   \n",
      "4  Philadelphia        Women's Apparel              53          83   \n",
      "\n",
      "   total_sales  operating_profit sales_method  \n",
      "0       600000         300000.00     In-store  \n",
      "1         5644           2426.92       Online  \n",
      "2       206250          61875.00       Outlet  \n",
      "3        13056           6789.12       Outlet  \n",
      "4         4399           1407.68       Outlet   \n",
      "\n",
      "| retailer    | retailer_id   | invoice_date   | region    | state        | city         | product_type          | price_per_unit   | units_sold   | total_sales   | operating_profit   | sales_method   |\n",
      "|:------------|:--------------|:---------------|:----------|:-------------|:-------------|:----------------------|:-----------------|:-------------|:--------------|:-------------------|:---------------|\n",
      "| Foot Locker | 1185732       | 1/1/2020       | Northeast | New York     | New York     | Men's Street Footwear | 50               | 1200         | 600000        | 300000             | In-store       |\n",
      "| Foot Locker | 1185732       | 1/1/2020       | Northeast | Pennsylvania | Philadelphia | Women's Apparel       | 68               | 83           | 5644          | 2426.92            | Online         |\n",
      "| Foot Locker | 1185732       | 1/1/2020       | Northeast | Pennsylvania | Philadelphia | Women's Apparel       | 75               | 275          | 206250        | 61875              | Outlet         |\n",
      "| Foot Locker | 1185732       | 1/1/2020       | Northeast | New York     | New York     | Men's Street Footwear | 34               | 384          | 13056         | 6789.12            | Outlet         |\n",
      "| Foot Locker | 1185732       | 1/1/2020       | Northeast | Pennsylvania | Philadelphia | Women's Apparel       | 53               | 83           | 4399          | 1407.68            | Outlet         |\n",
      "Column names and their data types in the combined DataFrame:\n"
     ]
    }
   ],
   "source": [
    "# Display the 2020 sales DataFrame\n",
    "\n",
    "print(\"2020 Sales DataFrame:\")\n",
    "print(df_2020.head(), '\\n')  # Display the first 5 rows of the 2020 sales data\n",
    "\n",
    "# Display the first 5 rows\n",
    "\n",
    "print(df_2020.head().to_markdown(index=False, numalign=\"left\", stralign=\"left\"))\n",
    "\n",
    "# Print the column names and their data types\n",
    "\n",
    "print(\"Column names and their data types in the combined DataFrame:\")\n",
    "\n",
    "\n"
   ]
  },
  {
   "cell_type": "code",
   "execution_count": 331,
   "metadata": {},
   "outputs": [
    {
     "name": "stdout",
     "output_type": "stream",
     "text": [
      "2021 Sales DataFrame:\n",
      "    retailer  retailer_id invoice_date   region       state           city  \\\n",
      "0  West Gear      1128299     1/1/2021     West  California  San Francisco   \n",
      "1  West Gear      1128299     1/1/2021     West  California  San Francisco   \n",
      "2     Kohl's      1189833     1/1/2021  Midwest     Montana       Billings   \n",
      "3     Kohl's      1189833     1/1/2021  Midwest     Montana       Billings   \n",
      "4  West Gear      1128299     1/1/2021     West  California  San Francisco   \n",
      "\n",
      "              product_type  price_per_unit  units_sold  total_sales  \\\n",
      "0  Men's Athletic Footwear              65         750       487500   \n",
      "1  Men's Athletic Footwear              51         233        11883   \n",
      "2            Men's Apparel              50         275       137500   \n",
      "3            Men's Apparel              47          77         3619   \n",
      "4  Men's Athletic Footwear              64         225        14400   \n",
      "\n",
      "   operating_profit sales_method  \n",
      "0         121875.00       Outlet  \n",
      "1           3208.41       Outlet  \n",
      "2          82500.00       Outlet  \n",
      "3           2714.25       Online  \n",
      "4           5184.00       Online   \n",
      "\n",
      "| retailer   | retailer_id   | invoice_date   | region   | state      | city          | product_type            | price_per_unit   | units_sold   | total_sales   | operating_profit   | sales_method   |\n",
      "|:-----------|:--------------|:---------------|:---------|:-----------|:--------------|:------------------------|:-----------------|:-------------|:--------------|:-------------------|:---------------|\n",
      "| West Gear  | 1128299       | 1/1/2021       | West     | California | San Francisco | Men's Athletic Footwear | 65               | 750          | 487500        | 121875             | Outlet         |\n",
      "| West Gear  | 1128299       | 1/1/2021       | West     | California | San Francisco | Men's Athletic Footwear | 51               | 233          | 11883         | 3208.41            | Outlet         |\n",
      "| Kohl's     | 1189833       | 1/1/2021       | Midwest  | Montana    | Billings      | Men's Apparel           | 50               | 275          | 137500        | 82500              | Outlet         |\n",
      "| Kohl's     | 1189833       | 1/1/2021       | Midwest  | Montana    | Billings      | Men's Apparel           | 47               | 77           | 3619          | 2714.25            | Online         |\n",
      "| West Gear  | 1128299       | 1/1/2021       | West     | California | San Francisco | Men's Athletic Footwear | 64               | 225          | 14400         | 5184               | Online         |\n",
      "Column names and their data types in the combined DataFrame:\n"
     ]
    }
   ],
   "source": [
    "# Display the 2021 sales DataFrame\n",
    "\n",
    "print(\"2021 Sales DataFrame:\")\n",
    "print(df_2021.head(), '\\n')  # Display the first 5 rows of the 2020 sales data\n",
    "\n",
    "# Display the first 5 rows\n",
    "\n",
    "print(df_2021.head().to_markdown(index=False, numalign=\"left\", stralign=\"left\"))\n",
    "\n",
    "# Print the column names and their data types\n",
    "\n",
    "print(\"Column names and their data types in the combined DataFrame:\")\n"
   ]
  },
  {
   "cell_type": "markdown",
   "metadata": {},
   "source": [
    "#### Check the data types of each DataFrame"
   ]
  },
  {
   "cell_type": "code",
   "execution_count": 332,
   "metadata": {},
   "outputs": [
    {
     "name": "stdout",
     "output_type": "stream",
     "text": [
      "Data loaded successfully.\n",
      "\n",
      "First few rows of the 2020 sales data:\n",
      "      retailer  retailer_id invoice_date     region         state  \\\n",
      "0  Foot Locker      1185732     1/1/2020  Northeast      New York   \n",
      "1  Foot Locker      1185732     1/1/2020  Northeast  Pennsylvania   \n",
      "2  Foot Locker      1185732     1/1/2020  Northeast  Pennsylvania   \n",
      "3  Foot Locker      1185732     1/1/2020  Northeast      New York   \n",
      "4  Foot Locker      1185732     1/1/2020  Northeast  Pennsylvania   \n",
      "\n",
      "           city           product_type  price_per_unit  units_sold  \\\n",
      "0      New York  Men's Street Footwear              50        1200   \n",
      "1  Philadelphia        Women's Apparel              68          83   \n",
      "2  Philadelphia        Women's Apparel              75         275   \n",
      "3      New York  Men's Street Footwear              34         384   \n",
      "4  Philadelphia        Women's Apparel              53          83   \n",
      "\n",
      "   total_sales  operating_profit sales_method  \n",
      "0       600000         300000.00     In-store  \n",
      "1         5644           2426.92       Online  \n",
      "2       206250          61875.00       Outlet  \n",
      "3        13056           6789.12       Outlet  \n",
      "4         4399           1407.68       Outlet  \n"
     ]
    }
   ],
   "source": [
    "# Check the 2020 sales data types.\n",
    "\n",
    "try:\n",
    "    df_2020 = pd.read_csv(file_path)\n",
    "    print(\"Data loaded successfully.\")\n",
    "except Exception as e:\n",
    "    print(f\"Failed to load data: {e}\")\n",
    "\n",
    "#  Display the first few rows to verify content\n",
    "print(\"\\nFirst few rows of the 2020 sales data:\")\n",
    "print(df_2020.head())\n",
    "\n",
    "\n"
   ]
  },
  {
   "cell_type": "code",
   "execution_count": 333,
   "metadata": {},
   "outputs": [
    {
     "name": "stdout",
     "output_type": "stream",
     "text": [
      "Data loaded successfully.\n",
      "\n",
      "First few rows of the 2020 sales data:\n",
      "      retailer  retailer_id invoice_date     region         state  \\\n",
      "0  Foot Locker      1185732     1/1/2020  Northeast      New York   \n",
      "1  Foot Locker      1185732     1/1/2020  Northeast  Pennsylvania   \n",
      "2  Foot Locker      1185732     1/1/2020  Northeast  Pennsylvania   \n",
      "3  Foot Locker      1185732     1/1/2020  Northeast      New York   \n",
      "4  Foot Locker      1185732     1/1/2020  Northeast  Pennsylvania   \n",
      "\n",
      "           city           product_type  price_per_unit  units_sold  \\\n",
      "0      New York  Men's Street Footwear              50        1200   \n",
      "1  Philadelphia        Women's Apparel              68          83   \n",
      "2  Philadelphia        Women's Apparel              75         275   \n",
      "3      New York  Men's Street Footwear              34         384   \n",
      "4  Philadelphia        Women's Apparel              53          83   \n",
      "\n",
      "   total_sales  operating_profit sales_method  \n",
      "0       600000         300000.00     In-store  \n",
      "1         5644           2426.92       Online  \n",
      "2       206250          61875.00       Outlet  \n",
      "3        13056           6789.12       Outlet  \n",
      "4         4399           1407.68       Outlet  \n"
     ]
    }
   ],
   "source": [
    "# Check the 2021 sales data types.\n",
    "try:\n",
    "    df_2021 = pd.read_csv(file_path)\n",
    "    print(\"Data loaded successfully.\")\n",
    "except Exception as e:\n",
    "    print(f\"Failed to load data: {e}\")\n",
    "\n",
    "#  Display the first few rows to verify content\n",
    "print(\"\\nFirst few rows of the 2020 sales data:\")\n",
    "print(df_2021.head())\n"
   ]
  },
  {
   "cell_type": "markdown",
   "metadata": {},
   "source": [
    "#### Combine the sales data by rows."
   ]
  },
  {
   "cell_type": "code",
   "execution_count": 334,
   "metadata": {},
   "outputs": [
    {
     "name": "stdout",
     "output_type": "stream",
     "text": [
      "\n",
      "Combined DataFrame with reset index:\n",
      "      retailer  retailer_id invoice_date     region         state  \\\n",
      "0  Foot Locker      1185732     1/1/2020  Northeast      New York   \n",
      "1  Foot Locker      1185732     1/1/2020  Northeast  Pennsylvania   \n",
      "2  Foot Locker      1185732     1/1/2020  Northeast  Pennsylvania   \n",
      "3  Foot Locker      1185732     1/1/2020  Northeast      New York   \n",
      "4  Foot Locker      1185732     1/1/2020  Northeast  Pennsylvania   \n",
      "\n",
      "           city           product_type  price_per_unit  units_sold  \\\n",
      "0      New York  Men's Street Footwear              50        1200   \n",
      "1  Philadelphia        Women's Apparel              68          83   \n",
      "2  Philadelphia        Women's Apparel              75         275   \n",
      "3      New York  Men's Street Footwear              34         384   \n",
      "4  Philadelphia        Women's Apparel              53          83   \n",
      "\n",
      "   total_sales  operating_profit sales_method  \n",
      "0       600000         300000.00     In-store  \n",
      "1         5644           2426.92       Online  \n",
      "2       206250          61875.00       Outlet  \n",
      "3        13056           6789.12       Outlet  \n",
      "4         4399           1407.68       Outlet  \n"
     ]
    }
   ],
   "source": [
    "# Combine the 2020 and 2021 sales DataFrames on the rows and reset the index.\n",
    "\n",
    "# Define the file paths\n",
    "file_path_2020 = 'athletic_sales_2020.csv'\n",
    "file_path_2021 = 'athletic_sales_2021.csv'\n",
    "\n",
    "def load_and_combine_data(file_path1, file_path2):\n",
    "    \"\"\"Loads data from two CSV files and combines them.\"\"\"\n",
    "    try:\n",
    "        # Load the data from both files\n",
    "        data1 = pd.read_csv(file_path1)\n",
    "        data2 = pd.read_csv(file_path2)\n",
    "\n",
    "        # Combine the two DataFrames into one\n",
    "        combined_data = pd.concat([data1, data2], ignore_index=True)\n",
    "        return combined_data\n",
    "    except Exception as e:\n",
    "        print(f\"Error loading or combining data: {e}\")\n",
    "        return None\n",
    "\n",
    "def main():\n",
    "    # Load and combine the 2020 and 2021 data\n",
    "    combined_df = load_and_combine_data(file_path_2020, file_path_2021)\n",
    "    \n",
    "    if combined_df is not None:\n",
    "        # Reset the index of the combined DataFrame\n",
    "        combined_df.reset_index(drop=True, inplace=True)\n",
    "        \n",
    "        # Display the first few rows to verify that the data has been combined and the index reset\n",
    "        print(\"\\nCombined DataFrame with reset index:\")\n",
    "        print(combined_df.head())\n",
    "\n",
    "        # Comment out or remove the following line to stop printing data types\n",
    "        # print(\"\\nData types of the combined DataFrame:\")\n",
    "        # print(combined_df.dtypes)\n",
    "if __name__ == \"__main__\":\n",
    "    main()\n"
   ]
  },
  {
   "cell_type": "code",
   "execution_count": 335,
   "metadata": {},
   "outputs": [
    {
     "name": "stdout",
     "output_type": "stream",
     "text": [
      "retailer            False\n",
      "retailer_id         False\n",
      "invoice_date        False\n",
      "region              False\n",
      "state               False\n",
      "city                False\n",
      "product_type        False\n",
      "price_per_unit      False\n",
      "units_sold          False\n",
      "total_sales         False\n",
      "operating_profit    False\n",
      "sales_method        False\n",
      "dtype: bool\n"
     ]
    }
   ],
   "source": [
    "# Check if any values are null.\n",
    "\n",
    "null_check = df.isnull().any()\n",
    "print(null_check)\n"
   ]
  },
  {
   "cell_type": "code",
   "execution_count": 336,
   "metadata": {},
   "outputs": [
    {
     "name": "stdout",
     "output_type": "stream",
     "text": [
      "retailer             object\n",
      "retailer_id           int64\n",
      "invoice_date         object\n",
      "region               object\n",
      "state                object\n",
      "city                 object\n",
      "product_type         object\n",
      "price_per_unit        int64\n",
      "units_sold            int64\n",
      "total_sales           int64\n",
      "operating_profit    float64\n",
      "sales_method         object\n",
      "dtype: object\n"
     ]
    }
   ],
   "source": [
    "# Check the data type of each column\n",
    "column_data_types = df.dtypes\n",
    "print(column_data_types)"
   ]
  },
  {
   "cell_type": "code",
   "execution_count": 337,
   "metadata": {},
   "outputs": [],
   "source": [
    "# Convert the \"invoice_date\" to a datetime datatype\n",
    "df['invoice_date'] = pd.to_datetime(df['invoice_date'])"
   ]
  },
  {
   "cell_type": "code",
   "execution_count": 338,
   "metadata": {},
   "outputs": [
    {
     "name": "stdout",
     "output_type": "stream",
     "text": [
      "Data type of 'invoice_date': datetime64[ns]\n"
     ]
    }
   ],
   "source": [
    "# Confirm that the \"invoice_date\" data type has been changed.\n",
    "print(\"Data type of 'invoice_date':\", df['invoice_date'].dtype)"
   ]
  },
  {
   "cell_type": "markdown",
   "metadata": {},
   "source": [
    "### 2. Determine which Region Sold the Most Products"
   ]
  },
  {
   "cell_type": "markdown",
   "metadata": {},
   "source": [
    "#### Using `groupby`"
   ]
  },
  {
   "cell_type": "code",
   "execution_count": 339,
   "metadata": {},
   "outputs": [
    {
     "name": "stdout",
     "output_type": "stream",
     "text": [
      "       region           state            city  Total_Products_Sold\n",
      "0     Midwest        Illinois         Chicago                25407\n",
      "1     Midwest         Indiana    Indianapolis                26332\n",
      "2     Midwest            Iowa      Des Moines                23446\n",
      "3     Midwest          Kansas         Wichita                29463\n",
      "4     Midwest        Michigan         Detroit                50095\n",
      "5     Midwest       Minnesota     Minneapolis                20415\n",
      "6     Midwest        Missouri       St. Louis                36404\n",
      "7     Midwest         Montana        Billings                42713\n",
      "8     Midwest        Nebraska           Omaha                19154\n",
      "9     Midwest    North Dakota           Fargo                22781\n",
      "10    Midwest            Ohio        Columbus                47781\n",
      "11    Midwest    South Dakota     Sioux Falls                22973\n",
      "12    Midwest       Wisconsin       Milwaukee                23950\n",
      "13  Northeast     Connecticut        Hartford                34696\n",
      "14  Northeast        Delaware      Wilmington                30275\n",
      "15  Northeast           Maine        Portland                22410\n",
      "16  Northeast        Maryland       Baltimore                20818\n",
      "17  Northeast   Massachusetts          Boston                32895\n",
      "18  Northeast   New Hampshire      Manchester                40812\n",
      "19  Northeast      New Jersey          Newark                26540\n",
      "20  Northeast        New York          Albany                57186\n",
      "21  Northeast        New York        New York               111954\n",
      "22  Northeast    Pennsylvania    Philadelphia                27662\n",
      "23  Northeast    Rhode Island      Providence                27473\n",
      "24  Northeast         Vermont      Burlington                38685\n",
      "25  Northeast   West Virginia      Charleston                29873\n",
      "26      South         Alabama      Birmingham                63327\n",
      "27      South        Arkansas     Little Rock                48468\n",
      "28      South       Louisiana     New Orleans                57615\n",
      "29      South     Mississippi         Jackson                56814\n",
      "30      South        Oklahoma   Oklahoma City                40459\n",
      "31      South       Tennessee       Knoxville                66077\n",
      "32      South           Texas          Dallas                69178\n",
      "33      South           Texas         Houston                90322\n",
      "34  Southeast         Florida           Miami                73135\n",
      "35  Southeast         Florida         Orlando                60295\n",
      "36  Southeast         Georgia         Atlanta                56391\n",
      "37  Southeast        Kentucky      Louisville                28664\n",
      "38  Southeast  North Carolina       Charlotte                62936\n",
      "39  Southeast  South Carolina      Charleston                72610\n",
      "40  Southeast        Virginia        Richmond                52969\n",
      "41       West          Alaska       Anchorage                30815\n",
      "42       West         Arizona         Phoenix                46919\n",
      "43       West      California     Los Angeles                76384\n",
      "44       West      California   San Francisco                85478\n",
      "45       West        Colorado          Denver                41378\n",
      "46       West          Hawaii        Honolulu                40375\n",
      "47       West           Idaho           Boise                63827\n",
      "48       West          Nevada       Las Vegas                51831\n",
      "49       West      New Mexico     Albuquerque                52633\n",
      "50       West          Oregon        Portland                50536\n",
      "51       West            Utah  Salt Lake City                48548\n",
      "52       West      Washington         Seattle                46611\n",
      "53       West         Wyoming        Cheyenne                50228\n",
      "       region          state          city  Total_Products_Sold\n",
      "13  Northeast    Connecticut      Hartford                  216\n",
      "17  Northeast  Massachusetts        Boston                  216\n",
      "18  Northeast  New Hampshire    Manchester                  216\n",
      "21  Northeast       New York      New York                  216\n",
      "22  Northeast   Pennsylvania  Philadelphia                  216\n"
     ]
    }
   ],
   "source": [
    "# Rename the sum to \"Total_Products_Sold\".\n",
    "products_sold = df.groupby(['region', 'state', 'city'])['units_sold'].sum().reset_index(name='Total_Products_Sold')\n",
    "\n",
    "# Display the results\n",
    "\n",
    "print(products_sold)\n",
    "\n",
    "# Group the data by 'region', 'state', and 'city', and count the number of products sold in each group\n",
    "\n",
    "products_sold = df.groupby(['region', 'state', 'city']).size().reset_index(name='Total_Products_Sold')\n",
    "\n",
    "# Show the top 5 results.\n",
    "\n",
    "top_products_sold = products_sold.nlargest(5, 'Total_Products_Sold')\n",
    "print(top_products_sold)\n",
    "\n"
   ]
  },
  {
   "cell_type": "markdown",
   "metadata": {},
   "source": [
    "#### Using `pivot_table`"
   ]
  },
  {
   "cell_type": "code",
   "execution_count": 340,
   "metadata": {},
   "outputs": [
    {
     "name": "stdout",
     "output_type": "stream",
     "text": [
      "Pivot Table Showing Total Products Sold by Region, State, and City:\n",
      "                                         Total_Products_Sold\n",
      "region    state          city                               \n",
      "Midwest   Illinois       Chicago                         144\n",
      "          Indiana        Indianapolis                    144\n",
      "          Iowa           Des Moines                      144\n",
      "          Kansas         Wichita                         144\n",
      "          Michigan       Detroit                         144\n",
      "          Minnesota      Minneapolis                     142\n",
      "          Missouri       St. Louis                       144\n",
      "          Montana        Billings                        144\n",
      "          Nebraska       Omaha                           144\n",
      "          North Dakota   Fargo                           144\n",
      "          Ohio           Columbus                        144\n",
      "          South Dakota   Sioux Falls                     144\n",
      "          Wisconsin      Milwaukee                       144\n",
      "Northeast Connecticut    Hartford                        216\n",
      "          Delaware       Wilmington                      144\n",
      "          Maine          Portland                        144\n",
      "          Maryland       Baltimore                       144\n",
      "          Massachusetts  Boston                          216\n",
      "          New Hampshire  Manchester                      216\n",
      "          New Jersey     Newark                          144\n",
      "          New York       Albany                          144\n",
      "                         New York                        216\n",
      "          Pennsylvania   Philadelphia                    216\n",
      "          Rhode Island   Providence                      216\n",
      "          Vermont        Burlington                      216\n",
      "          West Virginia  Charleston                      144\n",
      "South     Alabama        Birmingham                      216\n",
      "          Arkansas       Little Rock                     216\n",
      "          Louisiana      New Orleans                     216\n",
      "          Mississippi    Jackson                         216\n",
      "          Oklahoma       Oklahoma City                   216\n",
      "          Tennessee      Knoxville                       216\n",
      "          Texas          Dallas                          216\n",
      "                         Houston                         216\n",
      "Southeast Florida        Miami                           144\n",
      "                         Orlando                         216\n",
      "          Georgia        Atlanta                         216\n",
      "          Kentucky       Louisville                      144\n",
      "          North Carolina Charlotte                       144\n",
      "          South Carolina Charleston                      144\n",
      "          Virginia       Richmond                        216\n",
      "West      Alaska         Anchorage                       144\n",
      "          Arizona        Phoenix                         216\n",
      "          California     Los Angeles                     216\n",
      "                         San Francisco                   213\n",
      "          Colorado       Denver                          144\n",
      "          Hawaii         Honolulu                        144\n",
      "          Idaho          Boise                           216\n",
      "          Nevada         Las Vegas                       216\n",
      "          New Mexico     Albuquerque                     216\n",
      "          Oregon         Portland                        216\n",
      "          Utah           Salt Lake City                  216\n",
      "          Washington     Seattle                         144\n",
      "          Wyoming        Cheyenne                        144\n",
      "\n",
      "Top 5 Rows in the Original DataFrame After Renaming the Column:\n",
      "      retailer  retailer_id invoice_date     region         state  \\\n",
      "0  Foot Locker      1185732   2020-01-01  Northeast      New York   \n",
      "1  Foot Locker      1185732   2020-01-01  Northeast  Pennsylvania   \n",
      "2  Foot Locker      1185732   2020-01-01  Northeast  Pennsylvania   \n",
      "3  Foot Locker      1185732   2020-01-01  Northeast      New York   \n",
      "4  Foot Locker      1185732   2020-01-01  Northeast  Pennsylvania   \n",
      "\n",
      "           city           product_type  price_per_unit  Total_Products_Sold  \\\n",
      "0      New York  Men's Street Footwear              50                 1200   \n",
      "1  Philadelphia        Women's Apparel              68                   83   \n",
      "2  Philadelphia        Women's Apparel              75                  275   \n",
      "3      New York  Men's Street Footwear              34                  384   \n",
      "4  Philadelphia        Women's Apparel              53                   83   \n",
      "\n",
      "   total_sales  operating_profit sales_method  \n",
      "0       600000         300000.00     In-store  \n",
      "1         5644           2426.92       Online  \n",
      "2       206250          61875.00       Outlet  \n",
      "3        13056           6789.12       Outlet  \n",
      "4         4399           1407.68       Outlet  \n"
     ]
    }
   ],
   "source": [
    "# Show the number products sold for region, state, and city.\n",
    "\n",
    "# Create a pivot table to count the number of products sold by region, state, and city\n",
    "pivot_table = df.pivot_table(index=['region', 'state', 'city'],\n",
    "                             values='units_sold',  # This can be any column that exists in the DataFrame\n",
    "                             aggfunc='count',  # Count the number of occurrences\n",
    "                             fill_value=0)  # Fill missing values with 0\n",
    "\n",
    "# Rename the aggregation result for clarity in the pivot table\n",
    "pivot_table.rename(columns={'units_sold': 'Total_Products_Sold'}, inplace=True)\n",
    "\n",
    "#  Display the pivot table\n",
    "print(\"Pivot Table Showing Total Products Sold by Region, State, and City:\")\n",
    "print(pivot_table)\n",
    "\n",
    "#  Rename the \"units_sold\" column in the original DataFrame to \"Total_Products_Sold\"\n",
    "df.rename(columns={'units_sold': 'Total_Products_Sold'}, inplace=True)\n",
    "\n",
    "#  Display the top 5 results from the original DataFrame\n",
    "print(\"\\nTop 5 Rows in the Original DataFrame After Renaming the Column:\")\n",
    "print(df.head(5))\n",
    "\n",
    "\n"
   ]
  },
  {
   "cell_type": "markdown",
   "metadata": {},
   "source": [
    "### 3. Determine which Region had the Most Sales"
   ]
  },
  {
   "cell_type": "markdown",
   "metadata": {},
   "source": [
    "#### Using `groupby`"
   ]
  },
  {
   "cell_type": "code",
   "execution_count": 341,
   "metadata": {},
   "outputs": [
    {
     "name": "stdout",
     "output_type": "stream",
     "text": [
      "       region           state           city  Total Sales\n",
      "21  Northeast        New York       New York     39801235\n",
      "44       West      California  San Francisco     33973228\n",
      "34  Southeast         Florida          Miami     31600863\n",
      "39  Southeast  South Carolina     Charleston     29285637\n",
      "35  Southeast         Florida        Orlando     27682851\n"
     ]
    }
   ],
   "source": [
    "\n",
    "\n",
    "# Show the total sales for the products sold for each region, state, and city.\n",
    "grouped_sales = df.groupby(['region', 'state', 'city'])['total_sales'].sum().reset_index()\n",
    "\n",
    "# Rename the \"total_sales\" column to \"Total Sales\"\n",
    "grouped_sales.rename(columns={'total_sales': 'Total Sales'}, inplace=True)\n",
    "\n",
    "# Show the top 5 results based on Total Sales\n",
    "top_five_sales = grouped_sales.nlargest(5, 'Total Sales')\n",
    "print(top_five_sales)\n"
   ]
  },
  {
   "cell_type": "markdown",
   "metadata": {},
   "source": [
    "#### Using `pivot_table`"
   ]
  },
  {
   "cell_type": "code",
   "execution_count": 342,
   "metadata": {},
   "outputs": [
    {
     "name": "stdout",
     "output_type": "stream",
     "text": [
      "                                        Total Sales\n",
      "region    state          city                      \n",
      "Northeast New York       New York          39801235\n",
      "West      California     San Francisco     33973228\n",
      "Southeast Florida        Miami             31600863\n",
      "          South Carolina Charleston        29285637\n",
      "          Florida        Orlando           27682851\n"
     ]
    }
   ],
   "source": [
    "# Show the total sales for the products sold for each region, state, and city.\n",
    "\n",
    "sales_pivot = df.pivot_table(values='total_sales', index=['region', 'state', 'city'], aggfunc='sum')\n",
    "\n",
    "# Optional: Rename the \"total_sales\" column to \"Total Sales\"\n",
    "\n",
    "sales_pivot.rename(columns={'total_sales': 'Total Sales'}, inplace=True)\n",
    "\n",
    "# Show the top 5 results.\n",
    "\n",
    "top_five_sales = sales_pivot.nlargest(5, 'Total Sales')  # 'Total Sales' should be used if Step 2 is applied\n",
    "print(top_five_sales)\n"
   ]
  },
  {
   "cell_type": "markdown",
   "metadata": {},
   "source": [
    "### 4. Determine which Retailer had the Most Sales"
   ]
  },
  {
   "cell_type": "markdown",
   "metadata": {},
   "source": [
    "#### Using `groupby`"
   ]
  },
  {
   "cell_type": "code",
   "execution_count": 343,
   "metadata": {},
   "outputs": [
    {
     "name": "stdout",
     "output_type": "stream",
     "text": [
      "        retailer     region           state           city  Total Sales\n",
      "103    West Gear       West      California  San Francisco     32794405\n",
      "50        Kohl's       West      California    Los Angeles     25127160\n",
      "22   Foot Locker  Northeast        New York       New York     25008568\n",
      "109    West Gear       West      Washington        Seattle     24862675\n",
      "33   Foot Locker  Southeast  South Carolina     Charleston     24822280\n"
     ]
    }
   ],
   "source": [
    "# Show the total sales for the products sold for each retailer, region, state, and city.\n",
    "\n",
    "total_sales_grouped = df.groupby(['retailer', 'region', 'state', 'city'])['total_sales'].sum().reset_index()\n",
    "\n",
    "# Rename the \"total_sales\" column to \"Total Sales\"\n",
    "\n",
    "total_sales_grouped.rename(columns={'total_sales': 'Total Sales'}, inplace=True)\n",
    "\n",
    "# Show the top 5 results.\n",
    "\n",
    "top_five_sales = total_sales_grouped.nlargest(5, 'Total Sales')\n",
    "print(top_five_sales)\n"
   ]
  },
  {
   "cell_type": "markdown",
   "metadata": {},
   "source": [
    "#### Using `pivot_table`"
   ]
  },
  {
   "cell_type": "code",
   "execution_count": 344,
   "metadata": {},
   "outputs": [
    {
     "name": "stdout",
     "output_type": "stream",
     "text": [
      "                                                    Total Sales\n",
      "retailer    region    state          city                      \n",
      "West Gear   West      California     San Francisco     32794405\n",
      "Kohl's      West      California     Los Angeles       25127160\n",
      "Foot Locker Northeast New York       New York          25008568\n",
      "West Gear   West      Washington     Seattle           24862675\n",
      "Foot Locker Southeast South Carolina Charleston        24822280\n"
     ]
    }
   ],
   "source": [
    "# Show the total sales for the products sold for each retailer, region, state, and city.\n",
    "\n",
    "sales_pivot = df.pivot_table(values='total_sales',\n",
    "                             index=['retailer', 'region', 'state', 'city'],\n",
    "                             aggfunc='sum')\n",
    "\n",
    "# Optional: Rename the \"total_sales\" column to \"Total Sales\"\n",
    "\n",
    "sales_pivot.rename(columns={'total_sales': 'Total Sales'}, inplace=True)\n",
    "\n",
    "# Show the top 5 results.\n",
    "\n",
    "top_five_sales = sales_pivot.sort_values(by='Total Sales', ascending=False).head(5)\n",
    "print(top_five_sales)\n"
   ]
  },
  {
   "cell_type": "markdown",
   "metadata": {},
   "source": [
    "### 5. Determine which Retailer Sold the Most Women's Athletic Footwear"
   ]
  },
  {
   "cell_type": "code",
   "execution_count": 345,
   "metadata": {},
   "outputs": [
    {
     "name": "stdout",
     "output_type": "stream",
     "text": [
      "       retailer  retailer_id invoice_date     region         state  \\\n",
      "21  Foot Locker      1185732   2020-01-04  Northeast      New York   \n",
      "22  Foot Locker      1185732   2020-01-04  Northeast      New York   \n",
      "23  Foot Locker      1185732   2020-01-04  Northeast      New York   \n",
      "26    West Gear      1128299   2020-01-05  Northeast  Pennsylvania   \n",
      "27    West Gear      1128299   2020-01-05  Northeast  Pennsylvania   \n",
      "\n",
      "            city               product_type  price_per_unit  \\\n",
      "21      New York  Women's Athletic Footwear              36   \n",
      "22      New York  Women's Athletic Footwear              41   \n",
      "23      New York  Women's Athletic Footwear              45   \n",
      "26  Philadelphia  Women's Athletic Footwear              45   \n",
      "27  Philadelphia  Women's Athletic Footwear              34   \n",
      "\n",
      "    Total_Products_Sold  total_sales  operating_profit sales_method  \n",
      "21                  281        10116           3742.92       Outlet  \n",
      "22                  247        10127           4658.42       Online  \n",
      "23                  850       382500         133875.00     In-store  \n",
      "26                  300       135000          47250.00       Outlet  \n",
      "27                   90         3060           1254.60       Outlet  \n"
     ]
    }
   ],
   "source": [
    "# Filter the sales data to get the women's athletic footwear sales data.\n",
    "womens_footwear_sales = df[df['product_type'] == \"Women's Athletic Footwear\"]\n",
    "\n",
    "# Display the first few rows to verify the filtered data\n",
    "print(womens_footwear_sales.head())"
   ]
  },
  {
   "cell_type": "markdown",
   "metadata": {},
   "source": [
    "#### Using `groupby`"
   ]
  },
  {
   "cell_type": "code",
   "execution_count": 346,
   "metadata": {},
   "outputs": [
    {
     "name": "stdout",
     "output_type": "stream",
     "text": [
      "Index(['retailer', 'retailer_id', 'invoice_date', 'region', 'state', 'city',\n",
      "       'product_type', 'price_per_unit', 'Total_Products_Sold', 'total_sales',\n",
      "       'operating_profit', 'sales_method'],\n",
      "      dtype='object')\n",
      "          retailer     region           state           city  \\\n",
      "101      West Gear       West      California  San Francisco   \n",
      "22     Foot Locker  Northeast        New York       New York   \n",
      "49          Kohl's       West      California    Los Angeles   \n",
      "33     Foot Locker  Southeast  South Carolina     Charleston   \n",
      "68   Sports Direct      South           Texas         Dallas   \n",
      "\n",
      "     Womens_Footwear_Units_Sold  \n",
      "101                       12107  \n",
      "22                        10996  \n",
      "49                        10826  \n",
      "33                         8814  \n",
      "68                         8790  \n"
     ]
    }
   ],
   "source": [
    "#checking colums on file. Total_Products_Sold was replaced so couldnt find Units_sold\n",
    "\n",
    "print(df.columns)\n",
    "\n",
    "\n",
    "try:\n",
    "    # Filter the DataFrame for Women's Athletic Footwear\n",
    "    df_filtered = df[df['product_type'] == \"Women's Athletic Footwear\"]\n",
    "\n",
    "    # Aggregate the total units sold for each retailer, region, state, and city\n",
    "    grouped_sales = df_filtered.groupby(['retailer', 'region', 'state', 'city'])['Total_Products_Sold'].sum().reset_index()\n",
    "\n",
    "    # Rename the \"units_sold\" column to \"Womens_Footwear_Units_Sold\"\n",
    "    grouped_sales.rename(columns={'Total_Products_Sold': 'Womens_Footwear_Units_Sold'}, inplace=True)\n",
    "\n",
    "    # Display the top 5 results\n",
    "    top_five_sales = grouped_sales.nlargest(5, 'Womens_Footwear_Units_Sold')\n",
    "    print(top_five_sales)\n",
    "except KeyError as e:\n",
    "    print(f\"KeyError: Check if the column name {e} exists in DataFrame\")"
   ]
  },
  {
   "cell_type": "markdown",
   "metadata": {},
   "source": [
    "#### Using `pivot_table`"
   ]
  },
  {
   "cell_type": "code",
   "execution_count": 347,
   "metadata": {},
   "outputs": [
    {
     "name": "stdout",
     "output_type": "stream",
     "text": [
      "          retailer     region           state           city  \\\n",
      "101      West Gear       West      California  San Francisco   \n",
      "22     Foot Locker  Northeast        New York       New York   \n",
      "49          Kohl's       West      California    Los Angeles   \n",
      "33     Foot Locker  Southeast  South Carolina     Charleston   \n",
      "68   Sports Direct      South           Texas         Dallas   \n",
      "\n",
      "     Womens_Footwear_Units_Sold  \n",
      "101                       12107  \n",
      "22                        10996  \n",
      "49                        10826  \n",
      "33                         8814  \n",
      "68                         8790  \n"
     ]
    }
   ],
   "source": [
    "df_filtered = df[df['product_type'] == \"Women's Athletic Footwear\"]\n",
    "\n",
    "# Use pivot_table to calculate the total units sold for each combination of retailer, region, state, and city\n",
    "sales_pivot = df_filtered.pivot_table(values='Total_Products_Sold', \n",
    "                                      index=['retailer', 'region', 'state', 'city'], \n",
    "                                      aggfunc='sum')\n",
    "\n",
    "# Rename the \"units_sold\" column to \"Womens_Footwear_Units_Sold\"\n",
    "sales_pivot.rename(columns={'Total_Products_Sold': 'Womens_Footwear_Units_Sold'}, inplace=True)\n",
    "\n",
    "# Reset the index to use nlargest more conveniently\n",
    "sales_pivot_reset = sales_pivot.reset_index()\n",
    "\n",
    "# Show the top 5 results based on Womens_Footwear_Units_Sold\n",
    "top_five_sales = sales_pivot_reset.nlargest(5, 'Womens_Footwear_Units_Sold')\n",
    "print(top_five_sales)"
   ]
  },
  {
   "cell_type": "markdown",
   "metadata": {},
   "source": [
    "### 6. Determine the Day with the Most Women's Athletic Footwear Sales"
   ]
  },
  {
   "cell_type": "code",
   "execution_count": 348,
   "metadata": {},
   "outputs": [
    {
     "name": "stdout",
     "output_type": "stream",
     "text": [
      "              total_sales\n",
      "invoice_date             \n",
      "2020-01-01         845141\n",
      "2020-01-02         689410\n",
      "2020-01-03         632573\n",
      "2020-01-04         615080\n",
      "2020-01-05         707829\n",
      "...                   ...\n",
      "2021-12-27         602353\n",
      "2021-12-28         301010\n",
      "2021-12-29         211109\n",
      "2021-12-30         167903\n",
      "2021-12-31         198659\n",
      "\n",
      "[723 rows x 1 columns]\n"
     ]
    }
   ],
   "source": [
    "\n",
    "\n",
    "# Create a pivot table with 'invoice_date' as the index and 'total_sales' as the values\n",
    "sales_pivot = df.pivot_table(values='total_sales', index='invoice_date', aggfunc='sum')\n",
    "\n",
    "\n",
    "# Show the table\n",
    "print(sales_pivot)\n"
   ]
  },
  {
   "cell_type": "code",
   "execution_count": 349,
   "metadata": {},
   "outputs": [
    {
     "name": "stdout",
     "output_type": "stream",
     "text": [
      "              total_sales\n",
      "invoice_date             \n",
      "2021-07-16       12261098\n",
      "2021-12-16       10871121\n",
      "2021-06-17       10239903\n",
      "2021-08-17        9517031\n",
      "2021-07-23        7689134\n",
      "...                   ...\n",
      "2020-10-16              0\n",
      "2020-10-15              0\n",
      "2020-10-14              0\n",
      "2020-10-13              0\n",
      "2020-12-31              0\n",
      "\n",
      "[731 rows x 1 columns]\n"
     ]
    }
   ],
   "source": [
    "# Create a pivot table with 'invoice_date' as the index and 'total_sales' as the values\n",
    "sales_pivot = df.pivot_table(values='total_sales', index='invoice_date', aggfunc='sum')\n",
    "\n",
    "# Ensure 'invoice_date' is in datetime format\n",
    "sales_pivot.index = pd.to_datetime(sales_pivot.index)\n",
    "\n",
    "# Resample the pivot table into daily bins and get the total sales for each day\n",
    "daily_sales = sales_pivot.resample('D').sum()\n",
    "\n",
    "# Sort the resampled pivot table in descending order on \"Total Sales\"\n",
    "sorted_daily_sales = daily_sales.sort_values(by='total_sales', ascending=False)\n",
    "\n",
    "# Show the sorted table\n",
    "print(sorted_daily_sales)"
   ]
  },
  {
   "cell_type": "markdown",
   "metadata": {},
   "source": [
    "### 7.  Determine the Week with the Most Women's Athletic Footwear Sales"
   ]
  },
  {
   "cell_type": "code",
   "execution_count": 350,
   "metadata": {},
   "outputs": [
    {
     "name": "stdout",
     "output_type": "stream",
     "text": [
      "\n",
      "Sorted Weekly Sales:\n",
      "              total_sales\n",
      "invoice_date             \n",
      "2021-07-11       26271380\n",
      "2021-07-18       24731702\n",
      "2021-12-19       24698535\n",
      "2021-12-12       23250286\n",
      "2021-08-22       22225401\n"
     ]
    }
   ],
   "source": [
    "# Ensure 'invoice_date' is in datetime format and 'total_sales' is numeric\n",
    "df['invoice_date'] = pd.to_datetime(df['invoice_date'], errors='coerce')\n",
    "df['total_sales'] = pd.to_numeric(df['total_sales'], errors='coerce')\n",
    "\n",
    "# Drop rows with NaN values in 'invoice_date' or 'total_sales'\n",
    "df = df.dropna(subset=['invoice_date', 'total_sales'])\n",
    "\n",
    "# Create a pivot table with 'invoice_date' as the index and 'total_sales' as the values\n",
    "sales_pivot = df.pivot_table(values='total_sales', index='invoice_date', aggfunc='sum')\n",
    "\n",
    "# Resample the pivot table into weekly bins and get the total sales for each week\n",
    "weekly_sales = sales_pivot.resample('W').sum()\n",
    "\n",
    "#  Sort the resampled pivot table in descending order on \"Total Sales\"\n",
    "sorted_weekly_sales = weekly_sales.sort_values(by='total_sales', ascending=False)\n",
    "\n",
    "# Show the sorted table\n",
    "print(\"\\nSorted Weekly Sales:\")\n",
    "print(sorted_weekly_sales.head())"
   ]
  },
  {
   "cell_type": "code",
   "execution_count": null,
   "metadata": {},
   "outputs": [],
   "source": []
  }
 ],
 "metadata": {
  "kernelspec": {
   "display_name": "Python 3 (ipykernel)",
   "language": "python",
   "name": "python3"
  },
  "language_info": {
   "codemirror_mode": {
    "name": "ipython",
    "version": 3
   },
   "file_extension": ".py",
   "mimetype": "text/x-python",
   "name": "python",
   "nbconvert_exporter": "python",
   "pygments_lexer": "ipython3",
   "version": "3.10.14"
  }
 },
 "nbformat": 4,
 "nbformat_minor": 4
}
